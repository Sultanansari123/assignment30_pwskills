{
 "cells": [
  {
   "cell_type": "markdown",
   "id": "6a2a28c9-4c67-4a5e-b358-6e8a5648345b",
   "metadata": {},
   "source": [
    "# Ans1-"
   ]
  },
  {
   "cell_type": "markdown",
   "id": "9330999a-e6ea-480e-a8b1-815c55cf0351",
   "metadata": {},
   "source": [
    "Elastic Net Regression is a linear regression technique that combines L1 (Lasso) and L2 (Ridge) regularization, offering a balance between feature selection and handling multicollinearity."
   ]
  },
  {
   "cell_type": "markdown",
   "id": "b1d7dc04-aaa4-466f-ad6c-15d5e88dcb60",
   "metadata": {},
   "source": [
    "# Ans2-"
   ]
  },
  {
   "cell_type": "markdown",
   "id": "d224d0e8-2b6e-4126-8350-dd490c01e27a",
   "metadata": {},
   "source": [
    "The optimal values of the regularization parameters for Elastic Net Regression are often chosen through techniques like cross-validation."
   ]
  },
  {
   "cell_type": "markdown",
   "id": "19f1fe50-cf25-4a90-9025-14c024a16791",
   "metadata": {},
   "source": [
    "# Ans3-"
   ]
  },
  {
   "cell_type": "markdown",
   "id": "7071e7c9-1b37-49ef-bcf9-2d415bc44bdf",
   "metadata": {},
   "source": [
    "Advantages: Handles multicollinearity, performs feature selection, and balances Lasso and Ridge regularization.\n",
    "\n",
    "Disadvantages: Requires tuning of hyperparameters, computationally more expensive than simpler models."
   ]
  },
  {
   "cell_type": "markdown",
   "id": "c791aa9c-3de2-44df-b00d-6dcc9b5e382c",
   "metadata": {},
   "source": [
    "# Ans4-"
   ]
  },
  {
   "cell_type": "markdown",
   "id": "c9fbc0f8-0dfd-475c-b8d9-831073fadf38",
   "metadata": {},
   "source": [
    "Common use cases for Elastic Net Regression include predicting housing prices, financial market trends, and biomedical data analysis, where multicollinearity and feature selection are important.\n",
    "\n",
    "\n",
    "\n",
    "\n",
    "\n"
   ]
  },
  {
   "cell_type": "markdown",
   "id": "ca10cb8c-1075-4ff2-b52b-adc939fcd289",
   "metadata": {},
   "source": [
    "# Ans5-"
   ]
  },
  {
   "cell_type": "markdown",
   "id": "24eddda6-310d-45c1-8061-0bf1f1979560",
   "metadata": {},
   "source": [
    "In Elastic Net Regression, the magnitude and sign of coefficients indicate the strength and direction of the relationship between predictors and the target variable, considering both L1 and L2 regularization influences. Regularization terms may shrink coefficients, and some may be exactly zero, implying feature selection."
   ]
  },
  {
   "cell_type": "markdown",
   "id": "f26cfcde-f9b0-4ac4-a59d-5664a50a6c7c",
   "metadata": {},
   "source": [
    "# Ans6-"
   ]
  },
  {
   "cell_type": "markdown",
   "id": "fd87e6c2-75d3-4b96-b1a5-a20bca6e413e",
   "metadata": {},
   "source": [
    "\n",
    "Impute missing values or use techniques like mean imputation before applying Elastic Net Regression."
   ]
  },
  {
   "cell_type": "markdown",
   "id": "ed93659a-23cb-407d-ace4-2f3c36c5bd04",
   "metadata": {},
   "source": [
    "# Ans7-"
   ]
  },
  {
   "cell_type": "markdown",
   "id": "a5c363dd-e71b-4bb8-9ad0-9a3a1934abd8",
   "metadata": {},
   "source": [
    "Elastic Net Regression inherently performs feature selection by assigning zero coefficients to less influential variables during the regularization process.\n",
    "\n",
    "\n",
    "\n",
    "\n"
   ]
  },
  {
   "cell_type": "markdown",
   "id": "d2de9d7d-4c0b-4261-ad93-0d44012b22b7",
   "metadata": {},
   "source": [
    "# Ans8-"
   ]
  },
  {
   "cell_type": "raw",
   "id": "0955fe4c-26e7-4984-aba7-c28d5122c81b",
   "metadata": {},
   "source": [
    "import pickle\n",
    "from sklearn.linear_model import ElasticNet\n",
    "\n",
    "# Train your Elastic Net model (replace with your actual data and model training)\n",
    "X_train, y_train = ...  # Your training data\n",
    "elastic_net_model = ElasticNet(alpha=0.5, l1_ratio=0.5)  # Example parameters\n",
    "elastic_net_model.fit(X_train, y_train)\n",
    "\n",
    "# Pickle the model\n",
    "with open('elastic_net_model.pkl', 'wb') as file:\n",
    "    pickle.dump(elastic_net_model, file)\n",
    "\n",
    "# Unpickle the model\n",
    "with open('elastic_net_model.pkl', 'rb') as file:\n",
    "    loaded_model = pickle.load(file)\n",
    "\n",
    "# Now 'loaded_model' can be used for predictions\n"
   ]
  },
  {
   "cell_type": "markdown",
   "id": "4dfc6476-f01e-4385-89fd-c0e250d96779",
   "metadata": {},
   "source": [
    "# Ans9-"
   ]
  },
  {
   "cell_type": "markdown",
   "id": "4431d215-550f-40a1-9254-1978ba367e40",
   "metadata": {},
   "source": [
    "The purpose of pickling a model in machine learning is to serialize and save the trained model so that it can be stored, transported, and later deserialized for making predictions on new data without retraining."
   ]
  },
  {
   "cell_type": "code",
   "execution_count": null,
   "id": "c05bbdf8-1d83-496c-84ff-eacb358a27b1",
   "metadata": {},
   "outputs": [],
   "source": []
  }
 ],
 "metadata": {
  "kernelspec": {
   "display_name": "Python 3 (ipykernel)",
   "language": "python",
   "name": "python3"
  },
  "language_info": {
   "codemirror_mode": {
    "name": "ipython",
    "version": 3
   },
   "file_extension": ".py",
   "mimetype": "text/x-python",
   "name": "python",
   "nbconvert_exporter": "python",
   "pygments_lexer": "ipython3",
   "version": "3.10.8"
  }
 },
 "nbformat": 4,
 "nbformat_minor": 5
}
